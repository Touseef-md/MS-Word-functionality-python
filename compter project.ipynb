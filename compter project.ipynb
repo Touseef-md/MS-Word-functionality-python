{
 "cells": [
  {
   "cell_type": "markdown",
   "metadata": {},
   "source": [
    "# 1 Count the total number of words\n",
    "\n",
    "my name is Touseef.I agra live in \"AGRA\"; .agra: AGRA?? Touseef's"
   ]
  },
  {
   "cell_type": "code",
   "execution_count": 1,
   "metadata": {},
   "outputs": [
    {
     "name": "stdout",
     "output_type": "stream",
     "text": [
      "The total number of words are:   19\n"
     ]
    }
   ],
   "source": [
    "#below is the main code \n",
    "lines = ['my name is touseef','I live in agra','''I'm eighteen years old''','''I want to go,? to ?IIT JAMMU ''' ]\n",
    "\n",
    "#para=input(\"Enter the paragraph\")\n",
    "def totwords(lines):\n",
    "    newpara=\"\"\n",
    "    for j in lines:\n",
    "        for i in j: #to remove the commas and full stop\n",
    "            if (i==\",\" or i==\".\" or i==\"!\" or i==\"?\" or i==\":\" or i==\";\" or i==\"\\\"\"):\n",
    "                newpara=newpara+\" \"\n",
    "            else:\n",
    "                newpara=newpara+i\n",
    "        newpara=newpara+\" \"\n",
    "    newpara=newpara.split(\" \")\n",
    "    tot=[]\n",
    "    count=0\n",
    "    for i in newpara:\n",
    "        if i!=\"\":\n",
    "            tot.append(i)\n",
    "            count+=1\n",
    "    print(\"The total number of words are:  \",count)\n",
    "totwords(lines)"
   ]
  },
  {
   "cell_type": "markdown",
   "metadata": {},
   "source": [
    "# 2 Count the total number of alphabets"
   ]
  },
  {
   "cell_type": "code",
   "execution_count": 2,
   "metadata": {},
   "outputs": [
    {
     "name": "stdout",
     "output_type": "stream",
     "text": [
      "The total number of alphabets in the paragraph are:   63\n"
     ]
    }
   ],
   "source": [
    "lines = ['my name is touseef','I live in agra','''I'm eighteen years old''','''I want to go,? to ?IIT JAMMU ''' ]\n",
    "def totalpha(lines):\n",
    "    newpara=\"\"\n",
    "    c=0\n",
    "    for j in lines:\n",
    "        for i in j: #to remove the commas and full sto\n",
    "            if (i.lower()==\"a\" or i.lower()==\"b\" or i.lower()==\"c\" or i.lower()==\"d\" or i.lower()==\"e\" or i.lower()==\"f\"):\n",
    "                c+=1\n",
    "            elif (i.lower()==\"g\" or i.lower()==\"h\" or i.lower()==\"i\" or i.lower()==\"j\" or i.lower()==\"k\" or i.lower()==\"l\" or i.lower()==\"m\" or i.lower()==\"n\"):\n",
    "                c+=1\n",
    "            elif (i.lower()==\"o\" or i.lower()==\"p\" or i.lower()==\"q\" or i.lower()==\"r\" or i.lower()==\"s\" or i.lower()==\"t\" or i.lower()==\"u\" or i.lower()==\"v\" or i.lower()==\"w\" or i.lower()==\"x\" or i.lower()==\"y\" or i.lower()==\"z\"):\n",
    "                c+=1\n",
    "    print(\"The total number of alphabets in the paragraph are:  \",c)\n",
    "totalpha(lines) "
   ]
  },
  {
   "cell_type": "markdown",
   "metadata": {},
   "source": [
    "# 3 Count the total number of words (omitting the repeated)\n",
    "my name is Touseef.\n",
    "I agra live in \"AGRA\";.\n",
    "agra: AGRA?? Touseef's\n",
    "my name is Touseef.I agra live in \"AGRA\"; .agra: AGRA?? Touseef's"
   ]
  },
  {
   "cell_type": "code",
   "execution_count": 3,
   "metadata": {},
   "outputs": [
    {
     "name": "stdout",
     "output_type": "stream",
     "text": [
      "The total number of unique words are:   18\n"
     ]
    }
   ],
   "source": [
    "#below is the main code \n",
    "lines = ['my name is touseef','I live jammu in agra','''I'm eighteen years old''','''I want to go,? to ?IIT JAMMU ''' ]\n",
    "#para=input(\"Enter the paragraph\")\n",
    "def totwords1(lines):\n",
    "    newpara=\"\"\n",
    "    for j in lines:\n",
    "        for i in j: #to remove the commas and full stop\n",
    "            if ( i==\",\" or i==\".\" or i==\"!\" or i==\"?\" or i==\":\" or i==\";\" or i==\"\\\"\"):\n",
    "                newpara=newpara+\" \"\n",
    "            else:\n",
    "                newpara=newpara+i\n",
    "        newpara=newpara+\" \"\n",
    "    newpara=newpara.split(\" \")\n",
    "    unq=[]\n",
    "    unqc=0\n",
    "    for i in newpara:\n",
    "        if i not in unq and i!=\"\":\n",
    "            unq.append(i)\n",
    "            unqc+=1\n",
    "    print(\"The total number of unique words are:  \",unqc)\n",
    "totwords1(lines)"
   ]
  },
  {
   "cell_type": "markdown",
   "metadata": {},
   "source": [
    "# 4 Find a word.\n",
    "my name is Touseef.\n",
    "I agra live in \"AGRA\";.\n",
    "agra: AGRA?? Touseef's\n",
    "\n",
    "my name is Touseef.I agra live in \"AGRA\"; .agra: AGRA?? Touseef's"
   ]
  },
  {
   "cell_type": "code",
   "execution_count": 4,
   "metadata": {},
   "outputs": [],
   "source": [
    "lines = ['my name is touseef','I live TOUSEEF in agra','''I'm eighteen agra years old''','''I want to go,? to ?IIT JAMMU ''' ]\n",
    "def find(lines):\n",
    "    lines1=[]\n",
    "    newpara=\"\"\n",
    "    for j in lines:\n",
    "        newpara=\"\"\n",
    "        for i in j: #to remove the commas and full stop\n",
    "            if (i==\",\" or i==\".\" or i==\"!\" or i==\"?\" or i==\":\" or i==\";\" or i==\"\\\"\"):\n",
    "                newpara=newpara+\" \"\n",
    "            else:\n",
    "                newpara=newpara+i\n",
    "        newpara=newpara+\" \"\n",
    "        newpara=newpara.split(\" \")\n",
    "        lines1.append(newpara)\n",
    "    find=input(\"Enter the word you want to find in the paragraph\")\n",
    "    for j in lines1:\n",
    "        for i in range(len(j)):\n",
    "            if find==j[i]:\n",
    "                print(\"Yes it is present,it is present at\",lines1.index(j)+1,\"line and at the\",i+1,\"word\")\n",
    "find(lines)"
   ]
  },
  {
   "attachments": {},
   "cell_type": "markdown",
   "metadata": {},
   "source": [
    "# 6 Replace all function\n",
    "my name is Touseef.I agra live in \"AGRA\"; .agra: AGRA?? Touseef's"
   ]
  },
  {
   "cell_type": "code",
   "execution_count": 5,
   "metadata": {},
   "outputs": [
    {
     "name": "stdout",
     "output_type": "stream",
     "text": [
      "my name is touseef\n",
      "I live AGRA AGRA in agra is\n",
      "I'm eighteen AGRA agra years old\n",
      "I AGRA want to go,? to ?myself JAMMU\n"
     ]
    }
   ],
   "source": [
    "lines = ['my name is touseef','I live AGRA AGRA in agra is','''I'm eighteen AGRA agra years old''','''I AGRA want to go,? to ?IIT JAMMU ''' ]\n",
    "def replaceall(lines):\n",
    "    n=input(\"Enter which word you want to replace:  \")\n",
    "    p=input(\"Enter the word you want to replace with:  \")\n",
    "    m=\"\"\n",
    "    i=0\n",
    "    for j in lines:\n",
    "        m=\"\"\n",
    "        i=0\n",
    "        while(i<len(j)):\n",
    "            if i<=(len(j)-len(n)):\n",
    "                if j[i:i+len(n)]==n and i!=(len(j)-len(n)):\n",
    "                    if not j[i+len(n)].isalpha():\n",
    "                        m=m+p\n",
    "                        i=i+len(n)\n",
    "                elif j[i:i+len(n)]==n and i==(len(j)-len(n)):\n",
    "                    m=m+p\n",
    "                    i=i+len(n)\n",
    "                    #\n",
    "                else:\n",
    "                    m=m+j[i]\n",
    "                    i=i+1\n",
    "            else:\n",
    "                m=m+j[i]\n",
    "                i=i+1\n",
    "        lines[lines.index(j)]=m.strip()\n",
    "    for i in lines:\n",
    "        print(i)\n",
    "replaceall(lines)"
   ]
  },
  {
   "cell_type": "markdown",
   "metadata": {},
   "source": [
    "# 5 Replace at a particular index"
   ]
  },
  {
   "cell_type": "code",
   "execution_count": 8,
   "metadata": {},
   "outputs": [
    {
     "name": "stdout",
     "output_type": "stream",
     "text": [
      "There are  5 such words in the paragraph\n",
      "my name is touseef AGRA\n",
      "I live AGRA AGRA in agra\n",
      "I'm eighteen AGRA agra years old\n",
      "I myself want to go,? to ?IIT JAMMU \n"
     ]
    }
   ],
   "source": [
    "#Find a word\n",
    "lines = ['my name is touseef AGRA','I live AGRA AGRA in agra','''I'm eighteen AGRA agra years old''','''I AGRA want to go,? to ?IIT JAMMU ''' ]\n",
    "def REPLC_WRD(lines):\n",
    "    n=input(\"Enter which word you want to replace in the whole text:  \")\n",
    "    p=input(\"Enter which word you want to replace with:  \")\n",
    "    ind=[]\n",
    "    lines1=[]\n",
    "    for j in lines:\n",
    "        i=0\n",
    "        while(i<=len(j)-len(n)):\n",
    "            if j[i:i+len(n)]==n and i!=len(j)-len(n):\n",
    "                if not j[i+len(n)].isalpha():\n",
    "                    ind.append(i)\n",
    "                    lines1.append(lines.index(j))\n",
    "                    i=i+len(n)\n",
    "            elif j[i:i+len(n)]==n and i==len(j)-len(n):\n",
    "                ind.append(i)\n",
    "                lines1.append(lines.index(j))\n",
    "                i=i+1\n",
    "            else:\n",
    "                i=i+1\n",
    "    print(\"There are \",len(ind),\"such words in the paragraph\")\n",
    "    num=int(input(\"Enter the index at which word you want to replace:  \"))\n",
    "    q=\"\"\n",
    "    i=0\n",
    "    for j in range(len(lines1)):\n",
    "        if j==num-1:\n",
    "            while(i<len(lines[lines1[j]])):\n",
    "                if i==ind[num-1]:\n",
    "                    q=q+p\n",
    "                    i=i+len(n)\n",
    "                else:\n",
    "                    q=q+lines[lines1[j]][i]\n",
    "                    i=i+1\n",
    "            lines[lines1[j]]=q\n",
    "    for i in lines:\n",
    "        print(i)\n",
    "REPLC_WRD(lines)"
   ]
  },
  {
   "cell_type": "markdown",
   "metadata": {},
   "source": [
    "### "
   ]
  },
  {
   "cell_type": "markdown",
   "metadata": {},
   "source": [
    "# 8 Vowels\n",
    "my name is Touseef.I agra live in \"AGRA\"; .agra: AGRA?? Touseef's"
   ]
  },
  {
   "cell_type": "code",
   "execution_count": 9,
   "metadata": {},
   "outputs": [
    {
     "name": "stdout",
     "output_type": "stream",
     "text": [
      "The total number of vowels in the paragraph are:   14\n"
     ]
    }
   ],
   "source": [
    "#below is the main code \n",
    "#def VOWELS():\n",
    "lines = ['my name is touseef','I live AGRA AGRA in agra','''I'm eighteen AGRA agra years old''','''I AGRA want to go,? to ?IIT JAMMU ''' ]\n",
    "def VOWELS(lines):\n",
    "    d=0\n",
    "    def VOWEL1(para):\n",
    "        nonlocal d\n",
    "        #global d\n",
    "        #para=input(\"Enter the paragraph:    \")\n",
    "        newpara=\"\"\n",
    "        for i in para: #to remove the commas and full stop\n",
    "            if (i==\",\" or i==\".\" or i==\"!\" or i==\"?\" or i==\":\" or i==\";\" or i==\"\\\"\"):\n",
    "                newpara=newpara+\" \"\n",
    "            else:\n",
    "                newpara=newpara+i\n",
    "        newpara=newpara.split(\" \")\n",
    "        c=0\n",
    "        unq=[]\n",
    "        for i in newpara:\n",
    "            if i!=\"\":\n",
    "                unq.append(i)\n",
    "        for i in unq: #to remove the commas and full sto\n",
    "            if (i[0].lower()==\"a\"  or i[0].lower()==\"e\" or i[0].lower()==\"i\" or i[0].lower()==\"o\" or i[0].lower()==\"u\"):\n",
    "                c+=1\n",
    "        d=d+c\n",
    "    for i in lines:\n",
    "        VOWEL1(i)\n",
    "    print(\"The total number of vowels in the paragraph are:  \",d)\n",
    "VOWELS(lines)"
   ]
  },
  {
   "cell_type": "markdown",
   "metadata": {},
   "source": [
    "# 9 Consonants"
   ]
  },
  {
   "cell_type": "code",
   "execution_count": 10,
   "metadata": {},
   "outputs": [
    {
     "name": "stdout",
     "output_type": "stream",
     "text": [
      "The total number of consonants in the paragraph are:   11\n"
     ]
    }
   ],
   "source": [
    "#below is the main code \n",
    "lines = ['my name is touseef','I live drhr AGRA AGRA in agra','''I'm eighteen AGRA agra years old''','''I AGRA want to go,? to ?IIT JAMMU ''' ]\n",
    "def CONSO(lines):\n",
    "    d=0\n",
    "    totwrds=0\n",
    "    def CONS1(para):\n",
    "        nonlocal d\n",
    "        nonlocal totwrds\n",
    "        newpara=\"\"\n",
    "        for i in para: #to remove the commas and full stop\n",
    "            if (i==\",\" or i==\".\" or i==\"!\" or i==\"?\" or i==\":\" or i==\";\" or i==\"\\\"\"):\n",
    "                newpara=newpara+\" \"\n",
    "            else:\n",
    "                newpara=newpara+i\n",
    "        newpara=newpara.split(\" \")\n",
    "        unq=[]\n",
    "        for i in newpara:\n",
    "            if i!=\"\":\n",
    "                unq.append(i)\n",
    "        c=0\n",
    "        for i in unq: #to remove the commas and full sto\n",
    "            if (i[0].lower()==\"a\"  or i[0].lower()==\"e\" or i[0].lower()==\"i\" or i[0].lower()==\"o\" or i[0].lower()==\"u\"):\n",
    "                c+=1\n",
    "        totwrds=totwrds+len(unq)\n",
    "        d=d+c\n",
    "    for i in lines:\n",
    "        CONS1(i)\n",
    "    print(\"The total number of consonants in the paragraph are:  \",totwrds-d)\n",
    "CONSO(lines) \n"
   ]
  },
  {
   "cell_type": "markdown",
   "metadata": {},
   "source": [
    "# 10 Frequency of each word\n",
    "my name is Touseef.I agra live in \"AGRA\"; .agra: AGRA?? Touseef's Touseef's"
   ]
  },
  {
   "cell_type": "code",
   "execution_count": 11,
   "metadata": {},
   "outputs": [
    {
     "name": "stdout",
     "output_type": "stream",
     "text": [
      "{'my': 1, 'name': 1, 'is': 1, 'touseef': 1, 'i': 2, 'live': 1, 'agra': 6, 'in': 1, \"i'm\": 1, 'eighteen': 1, 'years': 1, 'old': 1, 'want': 1, 'to': 2, 'go': 1, 'iit': 1, 'jammu': 1}\n"
     ]
    }
   ],
   "source": [
    "#below is the main code \n",
    "lines = ['my name is touseef','I live AGRA AGRA in agra','''I'm eighteen AGRA agra years old''','''I AGRA want to go,? to ?IIT JAMMU ''' ]\n",
    "def FREQWRD(lines):\n",
    "    def freqwrd1(para):  \n",
    "        newpara=\"\"\n",
    "        for i in para: #to remove the commas and full stop\n",
    "            if (i==\",\" or i==\".\" or i==\"!\" or i==\"?\" or i==\":\" or i==\";\" or i==\"\\\"\"):\n",
    "                newpara=newpara+\" \"\n",
    "            else:\n",
    "                if ord(i)>=65 and ord(i)<=90:\n",
    "                    newpara=newpara+chr(ord(i)+32)\n",
    "                else:\n",
    "                    newpara=newpara+i\n",
    "        newpara=newpara.split(\" \")\n",
    "        unq=[]\n",
    "        for i in newpara:\n",
    "            if i not in unq and i!=\"\":\n",
    "                unq.append(i)\n",
    "        \n",
    "        dct={}  \n",
    "        for i in unq: #counting the frequency\n",
    "            frq=0\n",
    "            for j in newpara:\n",
    "                if i==j:\n",
    "                    frq+=1\n",
    "            dct[i]=frq\n",
    "        print(dct)\n",
    "    pa=''\n",
    "    for i in lines:\n",
    "        pa=pa+i+' '\n",
    "    freqwrd1(pa)\n",
    "FREQWRD(lines)"
   ]
  },
  {
   "cell_type": "markdown",
   "metadata": {},
   "source": [
    "# 11 Rearrange all the words in ascending order of a particular line\n",
    "my name is Touseef.I agra live in \"AGRA\"; .agra: AGRA?? Touseef's Touseef's"
   ]
  },
  {
   "cell_type": "code",
   "execution_count": 13,
   "metadata": {},
   "outputs": [
    {
     "name": "stdout",
     "output_type": "stream",
     "text": [
      "The tuple is:   ('touseef', 'arshad', 'zeenat')\n",
      "Names in ascending order are:  ['arshad', 'touseef', 'zeenat']\n"
     ]
    }
   ],
   "source": [
    "lines = ['my name is touseef','I live AGRA AGRA in agra','''I'm eighteen AGRA agra years old''','''I AGRA want to go,? to ?IIT JAMMU ''' ]\n",
    "a=[]    #list to store the words in lowercase\n",
    "org=[]  #list to store original words\n",
    "n=int(input(\"Enter the number of elements in tuple:  \"))\n",
    "for i in range(n):\n",
    "    u=(input(\"Enter the name: \"))\n",
    "    a.append(u.lower())\n",
    "    org.append(u)\n",
    "print(\"The tuple is:  \",tuple(org))\n",
    "for j in range(len(a)): #doing bubble sort on the names in lower case\n",
    "    flag=0\n",
    "    for k in range(0,len(a)-j-1):\n",
    "        if a[k]>a[k+1]:\n",
    "            temp=a[k]\n",
    "            a[k]=a[k+1]\n",
    "            a[k+1]=temp\n",
    "            temp=org[k]  #swapping the names of the original list\n",
    "            org[k]=org[k+1]\n",
    "            org[k+1]=temp\n",
    "            flag=1\n",
    "    if flag==0:\n",
    "        break\n",
    "print(\"Names in ascending order are: \",org)"
   ]
  },
  {
   "cell_type": "markdown",
   "metadata": {},
   "source": [
    "# 7 Insert a text"
   ]
  },
  {
   "cell_type": "code",
   "execution_count": null,
   "metadata": {},
   "outputs": [
    {
     "name": "stdout",
     "output_type": "stream",
     "text": [
      "Enter in which line you want to insert the text:     2\n",
      "Enter after which word you want to enter the text:   6\n",
      "Enter the text:   kjwefgkw gflweg\n",
      "my name is touseef\n",
      "I live,,  AGRA AGRA in agra kjwefgkw gflweg \n",
      "I'm eighteen AGRA agra years old\n",
      "I AGRA want to go,? to ?IIT JAMMU \n"
     ]
    }
   ],
   "source": [
    "lines = ['my name is touseef','I live,,  AGRA AGRA in agra','''I'm eighteen AGRA agra years old''','''I AGRA want to go,? to ?IIT JAMMU ''' ]\n",
    "def txt(lines):\n",
    "    nu=int(input(\"Enter in which line you want to insert the text:     \"))\n",
    "    a=lines[nu-1]\n",
    "    a=a+' '\n",
    "    n=int(input(\"Enter after which word you want to enter the text:   \"))\n",
    "    tex=input(\"Enter the text:   \")\n",
    "    sc=0\n",
    "    newpa=\"\"\n",
    "    a=a.strip()\n",
    "    for i in range(len(a)):\n",
    "        if (a[i]==' ' or a[i]==',' or a[i]=='.' or a[i]=='?' or a[i]=='!' or a[i]==';' or a[i]==':' ):\n",
    "            if (i>0 and i<len(a)-1):\n",
    "                if (a[i+1]==' ' or a[i+1]==',' or a[i+1]=='.' or a[i+1]=='?' or a[i+1]=='!' or a[i+1]==';' or a[i+1]==':' ):\n",
    "                    sc=sc-1\n",
    "            sc+=1\n",
    "        if sc==n:\n",
    "            newpa=newpa+' '+tex+' '\n",
    "            sc=sc+1\n",
    "        else:\n",
    "            newpa=newpa+a[i]\n",
    "    lines[nu-1]=newpa\n",
    "    for i in lines:\n",
    "        print(i)\n",
    "txt(lines)\n"
   ]
  },
  {
   "cell_type": "markdown",
   "metadata": {},
   "source": [
    "# 12 select a text , copy and paste\n",
    "my name is Touseef.I agra live in \"AGRA\"; .agra: AGRA?? Touseef's Touseef's"
   ]
  },
  {
   "cell_type": "code",
   "execution_count": null,
   "metadata": {},
   "outputs": [
    {
     "name": "stdout",
     "output_type": "stream",
     "text": [
      "Enter from which line you want to copy the text:   1\n",
      "Enter from which word you want to copy the text:   7\n",
      "Enter till which line you want to copy the text:   2\n",
      "Enter till which word you want to copy the text:   2\n",
      " tonight?\n",
      "Enter the line in which you want to add the text3\n",
      "Enter after which word you want to enter the text:   1\n",
      "And, would you save my soul,  tonight?\n",
      "That  , you'll,.  always be mine?\n",
      "Hold  tonight? That  , you'll,.   ,, me in your arms,..tonight.\n",
      "I want to go to IIT JAMMU \n"
     ]
    }
   ],
   "source": [
    "lines = ['  And, would you save my soul,  tonight?','''That  , you'll,.  always be mine?''','''Hold ,, me in your arms,..tonight.''','''I want to go to IIT JAMMU ''' ]\n",
    "def copy(lines):\n",
    "    #lines = ['my name is touseef','I live in agra','''I'm eighteen years old''','''I want to go to IIT JAMMU ''' ]\n",
    "    l1=int(input(\"Enter from which line you want to copy the text:   \"))\n",
    "    w1=int(input(\"Enter from which word you want to copy the text:   \"))\n",
    "    l2=int(input(\"Enter till which line you want to copy the text:   \"))\n",
    "    w2=int(input(\"Enter till which word you want to copy the text:   \"))\n",
    "    str=''\n",
    "    sc=0\n",
    "    flag=0\n",
    "    a=''\n",
    "    lines[l1-1]=lines[l1-1].strip()\n",
    "    if l1==l2:\n",
    "        for i in range(len(lines[l1-1])):\n",
    "            if ((lines[l1-1][i]==' ' or lines[l1-1][i]==',' or lines[l1-1][i]=='.' or lines[l1-1][i]=='?' or lines[l1-1][i]=='!' or lines[l1-1][i]==';' or lines[l1-1][i]==':' ) and flag==0):\n",
    "                if (i>=0 and i<len(lines[l1-1])-1):\n",
    "                    #print(i)\n",
    "                    if (lines[l1-1][i+1]==' ' or lines[l1-1][i+1]==',' or lines[l1-1][i+1]=='.' or lines[l1-1][i+1]=='?' or lines[l1-1][i+1]=='!' or lines[l1-1][i+1]==';' or lines[l1-1][i+1]==':' ):\n",
    "                        #print(1)\n",
    "                        sc=sc-1  \n",
    "                sc+=1\n",
    "            if sc>=w1-1 and sc<w2:\n",
    "                str=str+lines[l1-1][i]\n",
    "    if l1!=l2:\n",
    "        for i in range(len(lines[l1-1])):\n",
    "            if ((lines[l1-1][i]==' ' or lines[l1-1][i]==',' or lines[l1-1][i]=='.' or lines[l1-1][i]=='?' or lines[l1-1][i]=='!' or lines[l1-1][i]==';' or lines[l1-1][i]==':' ) and flag==0):\n",
    "                if (i>=0 and i<len(lines[l1-1])-1):\n",
    "                    #print(i)\n",
    "                    if (lines[l1-1][i+1]==' ' or lines[l1-1][i+1]==',' or lines[l1-1][i+1]=='.' or lines[l1-1][i+1]=='?' or lines[l1-1][i+1]=='!' or lines[l1-1][i+1]==';' or lines[l1-1][i+1]==':' ):\n",
    "                        #print(1)\n",
    "                        sc=sc-1  \n",
    "                sc+=1\n",
    "            if sc==w1-1:\n",
    "                flag=1\n",
    "                str=str+lines[l1-1][i]\n",
    "        print(str)\n",
    "        for i in range(l1,l2-1):\n",
    "            str=str+\" \"+lines[i]\n",
    "        str=str+\" \"\n",
    "        sc=0\n",
    "        flag=0\n",
    "        for i in range(len(lines[l2-1])):\n",
    "            if ((lines[l2-1][i]==' ' or lines[l2-1][i]==',' or lines[l2-1][i]=='.' or lines[l2-1][i]=='?' or lines[l2-1][i]=='!' or lines[l2-1][i]==';' or lines[l2-1][i]==':' ) and flag==0):\n",
    "                \n",
    "                if (i>=0 and i<len(lines[l2-1])-1):\n",
    "                #print(i)\n",
    "                    if (lines[l2-1][i+1]==' ' or lines[l2-1][i+1]==',' or lines[l2-1][i+1]=='.' or lines[l2-1][i+1]=='?' or lines[l2-1][i+1]=='!' or lines[l2-1][i+1]==';' or lines[l2-1][i+1]==':' ):\n",
    "                    #print(1)\n",
    "                        sc=sc-1\n",
    "                sc=sc+1\n",
    "                str=str+lines[l2-1][i]\n",
    "                if sc==w2:\n",
    "                    break\n",
    "            else:\n",
    "                str=str+lines[l2-1][i]\n",
    "\n",
    "    l3=int(input(\"Enter the line in which you want to add the text\"))\n",
    "    a=lines[l3-1]\n",
    "    nu=int(input(\"Enter after which word you want to enter the text:   \"))\n",
    "    tex=str\n",
    "    sc=0\n",
    "    newpa=\"\"\n",
    "    for i in range(len(a)):\n",
    "        if (a[i]==' ' or a[i]==',' or a[i]=='.' or a[i]=='?' or a[i]=='!'or a[i]==';' or a[i]==':' ): \n",
    "            sc+=1\n",
    "        if sc==nu:\n",
    "            newpa=newpa+' '+tex+' '\n",
    "            sc=sc+1\n",
    "        else:\n",
    "            newpa=newpa+a[i]\n",
    "    lines[l3-1]=newpa\n",
    "    for i in lines:\n",
    "        print(i)\n",
    "copy(lines)\n"
   ]
  },
  {
   "cell_type": "markdown",
   "metadata": {},
   "source": [
    "# 13 select a text, cut and paste"
   ]
  },
  {
   "cell_type": "code",
   "execution_count": null,
   "metadata": {},
   "outputs": [
    {
     "name": "stdout",
     "output_type": "stream",
     "text": [
      "Enter from which line you want to select the text:  1\n",
      "Enter from which word in the selected line you want to select the text:  2\n",
      "Enter till which line you want to select the text:  1\n",
      "Enter till which word you want to select the text:  4\n",
      ",name is ,touseef\n",
      "my, \n",
      "Enter the line in which you want to add the text2\n",
      "Enter before which word you want to enter the text:   1\n",
      "my, \n",
      ",name is ,touseef I ,live in agra\n",
      "I'm eighteen years, old\n",
      "I want to go to IIT JAMMU \n"
     ]
    }
   ],
   "source": [
    "lines = ['my, ,name is ,touseef','I ,live in agra','''I'm eighteen years, old''','''I want to go to IIT JAMMU ''' ]\n",
    "def FUNC11(lines):\n",
    "    l1=int(input(\"Enter from which line you want to select the text:  \"))\n",
    "    w1=int(input(\"Enter from which word in the selected line you want to select the text:  \"))\n",
    "    l2=int(input(\"Enter till which line you want to select the text:  \"))\n",
    "    w2=int(input(\"Enter till which word you want to select the text:  \"))\n",
    "    str=''\n",
    "    sc=0\n",
    "    flag=0\n",
    "    repl1=''\n",
    "    a=''\n",
    "    lines[l1-1]=lines[l1-1].strip()\n",
    "    if l1==l2:\n",
    "        for i in range(len(lines[l1-1])):\n",
    "            if ((lines[l1-1][i]==' ' or lines[l1-1][i]==',' or lines[l1-1][i]=='.' or lines[l1-1][i]=='?' or lines[l1-1][i]=='!' or lines[l1-1][i]==';' or lines[l1-1][i]==':' ) and flag==0):\n",
    "                #print(i)\n",
    "                if (i>0 and i<len(lines[l1-1])-1):\n",
    "                    #print(i)\n",
    "                    if (lines[l1-1][i+1]==' ' or lines[l1-1][i+1]==',' or lines[l1-1][i+1]=='.' or lines[l1-1][i+1]=='?' or lines[l1-1][i+1]=='!' or lines[l1-1][i+1]==';' or lines[l1-1][i+1]==':' ):\n",
    "                        #print(1)\n",
    "                        sc=sc-1 \n",
    "                sc+=1\n",
    "            if sc>=w1-1 and sc<w2:\n",
    "                str=str+lines[l1-1][i]\n",
    "            else:\n",
    "                repl1=repl1+lines[l1-1][i]\n",
    "        print(str)\n",
    "        print(repl1)\n",
    "        lines[l1-1]=repl1\n",
    "    if l1!=l2:\n",
    "        flag=0\n",
    "        for i in range(len(lines[l1-1])):\n",
    "            if ((lines[l1-1][i]==' ' or lines[l1-1][i]==',' or lines[l1-1][i]=='.' or lines[l1-1][i]=='?' or lines[l1-1][i]=='!' or lines[l1-1][i]==';' or lines[l1-1][i]==':' ) and flag==0):\n",
    "                #print(i)\n",
    "                if (i>0 and i<len(lines[l1-1])-1):\n",
    "                    #print(i)\n",
    "                    if (lines[l1-1][i+1]==' ' or lines[l1-1][i+1]==',' or lines[l1-1][i+1]=='.' or lines[l1-1][i+1]=='?' or lines[l1-1][i+1]=='!' or lines[l1-1][i+1]==';' or lines[l1-1][i+1]==':' ):\n",
    "                        #print(1)\n",
    "                        sc=sc-1 \n",
    "                sc+=1\n",
    "            if sc==w1-1:\n",
    "                flag=1\n",
    "                str=str+lines[l1-1][i]\n",
    "            else:\n",
    "                repl1=repl1+lines[l1-1][i]\n",
    "        lines[l1-1]=repl1\n",
    "        print(repl1)\n",
    "        print(str)\n",
    "        for i in range(l1,l2-1):\n",
    "            str=str+\" \"+lines[i]\n",
    "        str=str+\" \"\n",
    "        for i in range(l1,l2-1):\n",
    "            lines.pop(i)\n",
    "        sc=0\n",
    "        flag1=0\n",
    "        repl2=''\n",
    "        for i in range(len(lines[l1])):\n",
    "            if ((lines[l1][i]==' ' or lines[l1][i]==',' or lines[l1][i]=='.' or lines[l1][i]=='?' or lines[l1][i]=='!' or lines[l1][i]==';' or lines[l1][i]==':' ) and flag1==0):\n",
    "                #print(i)\n",
    "                if (i>0 and i<len(lines[l1])-1):\n",
    "                    #print(i)\n",
    "                    if (lines[l1][i+1]==' ' or lines[l1][i+1]==',' or lines[l1][i+1]=='.' or lines[l1][i+1]=='?' or lines[l1][i+1]=='!' or lines[l1][i+1]==';' or lines[l1][i+1]==':' ):\n",
    "                        #print(1)\n",
    "                        sc=sc-1 \n",
    "                sc=sc+1\n",
    "                str=str+lines[l1][i]\n",
    "                if sc==w2:\n",
    "                    flag1=1\n",
    "            else:\n",
    "                if flag1==0:\n",
    "                    str=str+lines[l1][i]\n",
    "                else:\n",
    "                    repl2=repl2+lines[l1][i]\n",
    "        lines[l1]=repl2\n",
    "        print(str)\n",
    "        print(repl2)\n",
    "    l3=int(input(\"Enter the line in which you want to add the text\"))\n",
    "    nu=int(input(\"Enter before which word you want to enter the text:   \"))\n",
    "    if l1!=l2:\n",
    "        if l3<=l1:\n",
    "            a=lines[l3-1]\n",
    "        else:\n",
    "            a=lines[l3-1-(l2-1-l1)]\n",
    "        a=' '+a\n",
    "        tex=str.strip()\n",
    "        sc=0\n",
    "        newpa=\"\"\n",
    "        for i in range(len(a)):\n",
    "            if (a[i]==' ' or a[i]==',' or a[i]=='.' or a[i]=='?' or a[i]=='!'or a[i]==';' or a[i]==':' ): \n",
    "                newpa=newpa+a[i]\n",
    "                sc+=1\n",
    "                if sc==nu:\n",
    "                    newpa=newpa+tex+' '        \n",
    "            else:\n",
    "                newpa=newpa+a[i]\n",
    "        if l3<=l1:\n",
    "            lines[l3-1]=newpa.strip()\n",
    "        else:\n",
    "            lines[l3-1-(l2-1-l1)]=newpa.strip()\n",
    "    else:\n",
    "        a=lines[l3-1]\n",
    "        a=' '+a\n",
    "        tex=str.strip()\n",
    "        sc=0\n",
    "        newpa=\"\"\n",
    "        for i in range(len(a)):\n",
    "            if (a[i]==' ' or a[i]==',' or a[i]=='.' or a[i]=='?' or a[i]=='!'or a[i]==';' or a[i]==':' ): \n",
    "                newpa=newpa+a[i]\n",
    "                sc+=1\n",
    "                if sc==nu:\n",
    "                    newpa=newpa+tex+' '        \n",
    "            else:\n",
    "                newpa=newpa+a[i]\n",
    "            lines[l3-1]=newpa.strip()\n",
    "    for i in lines:\n",
    "        print(i)\n",
    "FUNC11(lines)"
   ]
  },
  {
   "cell_type": "markdown",
   "metadata": {},
   "source": [
    "# 14 delete selected text"
   ]
  },
  {
   "cell_type": "code",
   "execution_count": null,
   "metadata": {},
   "outputs": [
    {
     "name": "stdout",
     "output_type": "stream",
     "text": [
      "Enter from which line you want to select the text:  1\n",
      "Enter from which word in the selected line you want to select the text:  2\n",
      "Enter till which line you want to select the text:  1\n",
      "Enter till which word in the selected line you want to select the text:  4\n",
      "my\n",
      "I,  live in agra..\n",
      "Im eighteen years old\n",
      "I want to go to IIT... JAMMU,, \n",
      "AGRA touseef\n"
     ]
    }
   ],
   "source": [
    "lines = ['my name is,, touseef','I,  live in agra..',\"Im eighteen years old\",'''I want to go to IIT... JAMMU,, ''',\"AGRA touseef\" ]\n",
    "def DELETE(lines):\n",
    "    l1=int(input(\"Enter from which line you want to select the text:  \"))\n",
    "    w1=int(input(\"Enter from which word in the selected line you want to select the text:  \"))\n",
    "    l2=int(input(\"Enter till which line you want to select the text:  \"))\n",
    "    w2=int(input(\"Enter till which word in the selected line you want to select the text:  \"))\n",
    "    str=''\n",
    "    sc=0\n",
    "    flag=0\n",
    "    a=''\n",
    "    st1=''\n",
    "    lines[l1-1]=' '+lines[l1-1]\n",
    "    lines[l1-1]=lines[l1-1].strip()\n",
    "    for i in range(len(lines[l1-1])):\n",
    "        if ((lines[l1-1][i]==' ' or lines[l1-1][i]==',' or lines[l1-1][i]=='.' or lines[l1-1][i]=='?' or lines[l1-1][i]=='!' or lines[l1-1][i]==';' or lines[l1-1][i]==':' ) and flag==0):\n",
    "                \n",
    "            if (i>0 and i<len(lines[l1-1])-1):\n",
    "                #print(i)\n",
    "                if (lines[l1-1][i+1]==' ' or lines[l1-1][i+1]==',' or lines[l1-1][i+1]=='.' or lines[l1-1][i+1]=='?' or lines[l1-1][i+1]=='!' or lines[l1-1][i+1]==';' or lines[l1-1][i+1]==':' ):\n",
    "                    #print(1)\n",
    "                    sc=sc-1 \n",
    "            sc+=1\n",
    "        if flag==0:\n",
    "            st1=st1+lines[l1-1][i]\n",
    "        if sc==w1:\n",
    "            flag=1\n",
    "            break\n",
    "    if l1!=l2:\n",
    "        lines[l1-1]=st1.strip()\n",
    "        del lines[l1:l2-1]\n",
    "        deltline=l2-l1-1\n",
    "        sc=0\n",
    "        flag=1\n",
    "        for i in range(len(lines[l2-1-deltline])):\n",
    "            if ((lines[l2-1-deltline][i]==' ' or lines[l2-1-deltline][i]==',' or lines[l2-1-deltline][i]=='.' or lines[l2-1-deltline][i]=='?' or lines[l2-1-deltline][i]=='!' or lines[l2-1-deltline][i]==';' or lines[l2-1-deltline][i]==':' ) and flag==1):\n",
    "                \n",
    "                if (i>0 and i<len(lines[l2-1-deltline])-1):\n",
    "                #print(i)\n",
    "                    if (lines[l2-1-deltline][i+1]==' ' or lines[l2-1-deltline][i+1]==',' or lines[l2-1-deltline][i+1]=='.' or lines[l2-1-deltline][i+1]=='?' or lines[l2-1-deltline][i+1]=='!' or lines[l2-1-deltline][i+1]==';' or lines[l2-1-deltline][i+1]==':' ):\n",
    "                    #print(1)\n",
    "                        sc=sc-1 \n",
    "                sc=sc+1\n",
    "                if sc==w2:\n",
    "                    flag=0\n",
    "            if flag==0:\n",
    "                str=str+lines[l2-1-deltline][i]\n",
    "        lines[l2-1-deltline]=str.strip()\n",
    "        for i in (lines):\n",
    "            print(i)\n",
    "    if l1==l2:\n",
    "        st1=st1.strip()+' '\n",
    "        sc=0\n",
    "        flag=1\n",
    "        for i in range(len(lines[l2-1])):\n",
    "            if ((lines[l2-1][i]==' ' or lines[l2-1][i]==',' or lines[l2-1][i]=='.' or lines[l2-1][i]=='?' or lines[l2-1][i]=='!' or lines[l2-1][i]==';' or lines[l2-1][i]==':' ) and flag==1):\n",
    "                \n",
    "                if (i>0 and i<len(lines[l2-1])-1):\n",
    "                    #print(i)\n",
    "                    if (lines[l2-1][i+1]==' ' or lines[l2-1][i+1]==',' or lines[l2-1][i+1]=='.' or lines[l2-1][i+1]=='?' or lines[l2-1][i+1]=='!' or lines[l2-1][i+1]==';' or lines[l2-1][i+1]==':' ):\n",
    "                        #print(1)\n",
    "                        sc=sc-1 \n",
    "                sc=sc+1\n",
    "                if sc==w2+1:\n",
    "                    flag=0\n",
    "            if flag==0:\n",
    "                st1=st1+lines[l2-1][i]\n",
    "        lines[l2-1]=st1.strip()\n",
    "        for i in (lines):\n",
    "            print(i)\n",
    "        \n",
    "DELETE(lines)"
   ]
  },
  {
   "cell_type": "markdown",
   "metadata": {},
   "source": [
    "# 15 Frequency of each alphabet present"
   ]
  },
  {
   "cell_type": "code",
   "execution_count": null,
   "metadata": {},
   "outputs": [
    {
     "name": "stdout",
     "output_type": "stream",
     "text": [
      "{'m': 5, 'y': 2, 'n': 4, 'a': 8, 'e': 10, 'i': 9, 's': 4, 't': 7, 'o': 6, 'u': 3, 'f': 2, 'l': 2, 'v': 1, 'g': 4, 'r': 3, 'h': 1, 'd': 1, 'w': 1, 'j': 1}\n"
     ]
    }
   ],
   "source": [
    "lines = ['my name is touseef','I live in agra..',\"Im eighteen years old\",'''I want to go to IIT... JAMMU,, ''',\"AGRA touseef\" ]\n",
    "def FREQALPHA(lines):\n",
    "    ll1=[]\n",
    "    for i in lines:\n",
    "        for j in i:\n",
    "            if j not in ll1 and j.isalpha():\n",
    "                ll1.append(j.lower())\n",
    "    freq1={}\n",
    "    for i in ll1:\n",
    "        freq=0\n",
    "        for j in lines:\n",
    "            for k in j:\n",
    "                if i==k.lower():\n",
    "                    freq+=1\n",
    "        freq1[i]=freq\n",
    "    print(freq1)\n",
    "FREQALPHA(lines)\n",
    "\n",
    "\n",
    "\n"
   ]
  },
  {
   "cell_type": "markdown",
   "metadata": {},
   "source": [
    "# 16 Bullets and numbering"
   ]
  },
  {
   "cell_type": "code",
   "execution_count": null,
   "metadata": {},
   "outputs": [
    {
     "name": "stdout",
     "output_type": "stream",
     "text": [
      "Select the pattern:: \n",
      " Enter 1 for * \n",
      " Enter 2 for # \n",
      " Enter 3 for numbers \n",
      "2\n",
      "Enter from which line you want to add the bullets and numbering:  2\n",
      "Enter to which you want to add the bullets and numbering:  4\n",
      "my name is touseef\n",
      "# I live in agra..\n",
      "# Im eighteen years old\n",
      "# I want to go to IIT... JAMMU,, \n",
      "AGRA touseef\n"
     ]
    }
   ],
   "source": [
    "lines = ['my name is touseef','I live in agra..',\"Im eighteen years old\",'''I want to go to IIT... JAMMU,, ''',\"AGRA touseef\" ]\n",
    "def BULLETS(lines):\n",
    "    pat=int(input(\"Select the pattern:: \\n Enter 1 for * \\n Enter 2 for # \\n Enter 3 for numbers \\n\"))\n",
    "    l1=int(input(\"Enter from which line you want to add the bullets and numbering:  \"))\n",
    "    l2=int(input(\"Enter to which you want to add the bullets and numbering:  \"))\n",
    "    if pat==1:\n",
    "        for i in range(l1-1,l2):\n",
    "            lines[i]='*'+' '+lines[i]\n",
    "    if pat==2:\n",
    "        for i in range(l1-1,l2):\n",
    "            lines[i]='#'+' '+lines[i]\n",
    "    d=1\n",
    "    if pat==3:\n",
    "        for i in range(l1-1,l2):\n",
    "            lines[i]= ('%s'+'.'+' '+lines[i])%(d)\n",
    "            d=int(d)+1\n",
    "    for j in lines:\n",
    "        print(j)\n",
    "BULLETS(lines)"
   ]
  },
  {
   "cell_type": "markdown",
   "metadata": {},
   "source": [
    "# 17 Heading"
   ]
  },
  {
   "cell_type": "code",
   "execution_count": null,
   "metadata": {},
   "outputs": [
    {
     "name": "stdout",
     "output_type": "stream",
     "text": [
      "Enter the HEADING which you want to give to the DOCUMENTethrt\n",
      "                                                       ethrt\n",
      "                                                       *****\n",
      "my name is touseef\n",
      "I live in agra..\n",
      "Im eighteen years old\n",
      "I want to go to IIT... JAMMU,, \n",
      "AGRA touseef\n",
      "None\n"
     ]
    }
   ],
   "source": [
    "lines = ['my name is touseef','I live in agra..',\"Im eighteen years old\",'''I want to go to IIT... JAMMU,, ''',\"AGRA touseef\" ]\n",
    "def HEADING(lines):\n",
    "    h=input(\"Enter the HEADING which you want to give to the DOCUMENT\")\n",
    "    f=115\n",
    "    st1=''\n",
    "    st2=''\n",
    "    if (f-len(h))%2==0:\n",
    "        for i in range(int((f-len(h))/2)):\n",
    "            st1=st1+' '\n",
    "        st1=st1+h\n",
    "        lines.insert(0,st1)\n",
    "        for i in range(int((f-len(h))/2)):\n",
    "            st2=st2+' '\n",
    "        for i in range(len(h)):\n",
    "            st2=st2+\"*\"\n",
    "        lines.insert(1,st2)\n",
    "            \n",
    "\n",
    "    else:\n",
    "        for i in range(int((f-len(h))//2)):\n",
    "            st1=st1+' '\n",
    "        st1=st1+h\n",
    "        lines.insert(0,st1)\n",
    "        for i in range(int((f-len(h))/2)):\n",
    "            st2=st2+\" \"\n",
    "        for i in range(len(h)):\n",
    "            st2=st2+\"*\"\n",
    "        lines.insert(1,st2)\n",
    "    for i in lines:\n",
    "        print(i)\n",
    "print(HEADING(lines))\n",
    "\n",
    "\n"
   ]
  },
  {
   "cell_type": "markdown",
   "metadata": {},
   "source": [
    "# 18 SUBHEADING"
   ]
  },
  {
   "cell_type": "code",
   "execution_count": null,
   "metadata": {},
   "outputs": [
    {
     "name": "stdout",
     "output_type": "stream",
     "text": [
      "Enter the SUBHEADING which you want to give:  ethetje\n",
      "Enter after which line you want to add a subheading: 2\n",
      "my name is touseef\n",
      "I live in agra..\n",
      "\n",
      "ethetje:\n",
      "--------\n",
      "Im eighteen years old\n",
      "I want to go to IIT... JAMMU,, \n",
      "AGRA touseef\n",
      "['my name is touseef', 'I live in agra..', '', 'ethetje:', '--------', 'Im eighteen years old', 'I want to go to IIT... JAMMU,, ', 'AGRA touseef']\n"
     ]
    }
   ],
   "source": [
    "#hdng=input(\"Enter the sentence which you want to make the heading\")\n",
    "lines = ['my name is touseef','I live in agra..',\"Im eighteen years old\",'''I want to go to IIT... JAMMU,, ''',\"AGRA touseef\" ]\n",
    "def SUBHEADING(lines):\n",
    "    h=input(\"Enter the SUBHEADING which you want to give:  \")\n",
    "    h=h+':'\n",
    "    lin=int(input(\"Enter after which line you want to add a subheading: \"))\n",
    "    subhed=''\n",
    "    lines.insert(lin,\"\")\n",
    "    for i in range(len(h)):\n",
    "        subhed=subhed+'-'\n",
    "    lines.insert(lin+1,subhed)\n",
    "    lines.insert(lin+1,h)\n",
    "    for i in range(len(lines)):\n",
    "        print(lines[i])\n",
    "SUBHEADING(lines)"
   ]
  },
  {
   "cell_type": "markdown",
   "metadata": {},
   "source": [
    "# 19 To increase space between 2 consecutive lines"
   ]
  },
  {
   "cell_type": "code",
   "execution_count": null,
   "metadata": {},
   "outputs": [
    {
     "name": "stdout",
     "output_type": "stream",
     "text": [
      "Enter the line after which you want to add spaces:  3\n",
      "Enter the by how many units you want to increase the space: 3\n",
      "my name is touseef\n",
      "I live in agra..\n",
      "Im eighteen years old\n",
      "I want to go to IIT... JAMMU,, \n",
      "\n",
      "\n",
      "\n",
      "AGRA touseef\n"
     ]
    }
   ],
   "source": [
    "lines = ['my name is touseef','I live in agra..',\"Im eighteen years old\",'''I want to go to IIT... JAMMU,, ''',\"AGRA touseef\" ]\n",
    "def INRLINE(lines):\n",
    "    l1=int(input(\"Enter the line after which you want to add spaces:  \"))\n",
    "    num=int(input(\"Enter the by how many units you want to increase the space: \"))\n",
    "    for i in range(num):\n",
    "        lines.insert(l1+i+1,\"\")\n",
    "    for j in lines:\n",
    "        print(j)\n",
    "INRLINE(lines)"
   ]
  },
  {
   "cell_type": "markdown",
   "metadata": {},
   "source": [
    "# 20 To insert a subscript"
   ]
  },
  {
   "cell_type": "code",
   "execution_count": null,
   "metadata": {},
   "outputs": [
    {
     "name": "stdout",
     "output_type": "stream",
     "text": [
      "Enter in which line you wan to add the subscript:  2\n",
      "Enter on which word word you want to add the subscript:  1\n",
      "Enter which number you want to enter as a subscript(from 0 to 9):  4\n",
      "my name is touseef\n",
      "I₄   ,, live, in agra..\n",
      "Im eighteen years old\n",
      "I want to go to IIT... JAMMU,, \n",
      "AGRA touseef\n"
     ]
    }
   ],
   "source": [
    "lines = ['my name is touseef',' I  ,, live, in agra..',\"Im eighteen years old\",'''I want to go to IIT... JAMMU,, ''',\"AGRA touseef\" ]\n",
    "def SUBSCRIPT(lines):\n",
    "    l1=int(input(\"Enter in which line you wan to add the subscript:  \"))\n",
    "    w1=int(input(\"Enter on which word word you want to add the subscript:  \"))\n",
    "    nu=int(input(\"Enter which number you want to enter as a subscript(from 0 to 9):  \"))\n",
    "    flag1=0\n",
    "    st=''\n",
    "    st1=''\n",
    "    sep=0\n",
    "    lines[l1-1]=lines[l1-1].strip()\n",
    "    lines[l1-1]=\" \"+lines[l1-1]\n",
    "    i=0\n",
    "    while(i<len(lines[l1-1])):\n",
    "        flag=0\n",
    "        if ((lines[l1-1][i]==' ' or lines[l1-1][i]==',' or lines[l1-1][i]=='.' or lines[l1-1][i]=='?' or lines[l1-1][i]=='!' or lines[l1-1][i]==';' or lines[l1-1][i]==':' ) and flag1==0 ):\n",
    "            if (i>0 and i<len(lines[l1-1])-1):\n",
    "                if (lines[l1-1][i+1]==' ' or lines[l1-1][i+1]==',' or lines[l1-1][i+1]=='.' or lines[l1-1][i+1]=='?' or lines[l1-1][i+1]=='!' or lines[l1-1][i+1]==';' or lines[l1-1][i+1]==':' ):\n",
    "                    sep=sep-1  \n",
    "            sep=sep+1\n",
    "            if flag1==0:\n",
    "                st=st+lines[l1-1][i]\n",
    "            if sep==w1:\n",
    "                flag=1\n",
    "                flag1=1\n",
    "                for j in range(i+1,len(lines[l1-1])):\n",
    "                    if lines[l1-1][j]=='.' or lines[l1-1][j]==',' or lines[l1-1][j]=='?' or lines[l1-1][j]==' ' or lines[l1-1][j]=='!':\n",
    "                        break\n",
    "                    st1=st1+lines[l1-1][j]\n",
    "                if nu==0:\n",
    "                    st=st+('''%s\\u2080''')%(st1)+\" \"\n",
    "                if nu==1:\n",
    "                    st=st+('''%s\\u2081''')%(st1)+\" \"\n",
    "                if nu==2:\n",
    "                    st=st+('''%s\\u2082''')%(st1)+\" \"\n",
    "                if nu==3:\n",
    "                    st=st+('''%s\\u2083''')%(st1)+\" \"\n",
    "                if nu==4:\n",
    "                    st=st+('''%s\\u2084''')%(st1)+\" \"\n",
    "                if nu==5:\n",
    "                    st=st+('''%s\\u2085''')%(st1)+\" \"\n",
    "                if nu==6:\n",
    "                    st=st+('''%s\\u2086''')%(st1)+\" \"\n",
    "                if nu==7:\n",
    "                    st=st+('''%s\\u2087''')%(st1)+\" \"\n",
    "                if nu==8:\n",
    "                    st=st+('''%s\\u2088''')%(st1)+\" \"\n",
    "                if nu==9:\n",
    "                    st=st+('''%s\\u2089''')%(st1)+\" \"\n",
    "                i=i+(j-i)\n",
    "                if j==len(lines[l1-1])-1:\n",
    "                    i=j+1\n",
    "            if flag==0:\n",
    "                i=i+1\n",
    "        else:\n",
    "            st=st+lines[l1-1][i]\n",
    "            i=i+1\n",
    "    lines[l1-1]=st.strip()\n",
    "    for i in lines:\n",
    "        print(i)\n",
    "SUBSCRIPT(lines)"
   ]
  },
  {
   "cell_type": "markdown",
   "metadata": {},
   "source": [
    "# 21 To insert a superscript"
   ]
  },
  {
   "cell_type": "code",
   "execution_count": null,
   "metadata": {},
   "outputs": [
    {
     "name": "stdout",
     "output_type": "stream",
     "text": [
      "Enter in which line you wan to add the subscript:  2\n",
      "Enter on which word word you want to add the subscript:  4\n",
      "Enter which number you want to enter as a subscript(from 0 to 9):  4\n",
      "my name is,  ,touseef\n",
      "I   live in agra⁴..\n",
      "Im eighteen years old\n",
      "I want to go to IIT... JAMMU,, \n",
      "AGRA touseef\n"
     ]
    }
   ],
   "source": [
    "lines = ['my name is,  ,touseef','  I   live in agra..',\"Im eighteen years old\",'''I want to go to IIT... JAMMU,, ''',\"AGRA touseef\" ]\n",
    "def SUPERSCRIPT(lines):\n",
    "    l1=int(input(\"Enter in which line you wan to add the subscript:  \"))\n",
    "    w1=int(input(\"Enter on which word word you want to add the subscript:  \"))\n",
    "    nu=int(input(\"Enter which number you want to enter as a subscript(from 0 to 9):  \"))\n",
    "    st=''\n",
    "    st1=''\n",
    "    sep=0\n",
    "    lines[l1-1]=lines[l1-1].strip()\n",
    "    lines[l1-1]=\" \"+lines[l1-1]\n",
    "    i=0\n",
    "    flag=0\n",
    "    flag1=0\n",
    "    while(i<len(lines[l1-1])):\n",
    "        flag=0\n",
    "        if ((lines[l1-1][i]==' ' or lines[l1-1][i]==',' or lines[l1-1][i]=='.' or lines[l1-1][i]=='?' or lines[l1-1][i]=='!' or lines[l1-1][i]==';' or lines[l1-1][i]==':' ) and flag1==0 ):\n",
    "            if (i>0 and i<len(lines[l1-1])-1):\n",
    "                if (lines[l1-1][i+1]==' ' or lines[l1-1][i+1]==',' or lines[l1-1][i+1]=='.' or lines[l1-1][i+1]=='?' or lines[l1-1][i+1]=='!' or lines[l1-1][i+1]==';' or lines[l1-1][i+1]==':' ):\n",
    "                    sep=sep-1  \n",
    "            sep=sep+1\n",
    "            if flag1==0:\n",
    "                st=st+lines[l1-1][i]\n",
    "            if sep==w1:\n",
    "                flag=1\n",
    "                flag1=1\n",
    "                for j in range(i+1,len(lines[l1-1])):\n",
    "                    if lines[l1-1][j]=='.' or lines[l1-1][j]==',' or lines[l1-1][j]=='?' or lines[l1-1][j]==' ' or lines[l1-1][j]=='!':\n",
    "                        break\n",
    "                    st1=st1+lines[l1-1][j]\n",
    "                if nu==0:\n",
    "                    st=st+('''%s\\u2070''')%(st1)\n",
    "                if nu==1:\n",
    "                    st=st+('''%s\\u00B9''')%(st1)\n",
    "                if nu==2:\n",
    "                    st=st+('''%s\\u00B2''')%(st1)\n",
    "                if nu==3:\n",
    "                    st=st+('''%s\\u00B3''')%(st1)\n",
    "                if nu==4:\n",
    "                    st=st+('''%s\\u2074''')%(st1)\n",
    "                if nu==5:\n",
    "                    st=st+('''%s\\u2075''')%(st1)\n",
    "                if nu==6:\n",
    "                    st=st+('''%s\\u2076''')%(st1)\n",
    "                if nu==7:\n",
    "                    st=st+('''%s\\u2077''')%(st1)\n",
    "                if nu==8:\n",
    "                    st=st+('''%s\\u2078''')%(st1)\n",
    "                if nu==9:\n",
    "                    st=st+('''%s\\u2079''')%(st1)\n",
    "                i=i+(j-i)\n",
    "                if j==(len(lines[l1-1])-1):\n",
    "                    i=j+1\n",
    "            if flag==0:\n",
    "                i=i+1\n",
    "        else:\n",
    "            st=st+lines[l1-1][i]\n",
    "            i=i+1\n",
    "    lines[l1-1]=st.strip()\n",
    "    for i in lines:\n",
    "        print(i)\n",
    "SUPERSCRIPT(lines)"
   ]
  },
  {
   "cell_type": "markdown",
   "metadata": {},
   "source": [
    "# 22 To find the longest word"
   ]
  },
  {
   "cell_type": "code",
   "execution_count": null,
   "metadata": {},
   "outputs": [
    {
     "name": "stdout",
     "output_type": "stream",
     "text": [
      "asadgwrgregw\n"
     ]
    }
   ],
   "source": [
    "lines = ['my name is,touseef','I live AGRATOUSEEEFASAD,, in agra..',\"Im eighteensggrg years old\",'''I want ''',\"AGRA touseef\" ]\n",
    "lines=['my name is,asadgwrgregw','i LIve, in kanpur','come on dance, with? me']\n",
    "\n",
    "\n",
    "def LNGWRD(lines):\n",
    "    mxl=0\n",
    "    t=0\n",
    "    for i in lines:\n",
    "        i=i+' '\n",
    "        t=0\n",
    "        for j in range(len(i)):\n",
    "            if i[j]==' ' or i[j]==','or i[j]=='?'or i[j]=='.'or i[j]=='!':\n",
    "                if len(i[t:j])>mxl:\n",
    "                    mxl=len(i[t:j])\n",
    "                    lgwrd=i[t:j]\n",
    "                t=j+1\n",
    "    print(lgwrd)\n",
    "LNGWRD(lines)        "
   ]
  },
  {
   "attachments": {},
   "cell_type": "markdown",
   "metadata": {},
   "source": [
    "# 24 Reversing The Whole Para"
   ]
  },
  {
   "cell_type": "code",
   "execution_count": null,
   "metadata": {},
   "outputs": [
    {
     "name": "stdout",
     "output_type": "stream",
     "text": [
      "feesuot ARGA\n",
      " ,,UMMAJ ...TII ot og ot WBWBJWBJWBWBEWBEWLFBWVHFBEKBWVHFVHS tnaw I\n",
      "dlo sraey grggsneethgie mI\n",
      "..arga ni ,,DASAFEEESUOTARGA evil I\n",
      "feesuot,si eman ym\n"
     ]
    }
   ],
   "source": [
    "lines = ['my name is,touseef','I live AGRATOUSEEEFASAD,, in agra..',\"Im eighteensggrg years old\",'''I want SHVFHVWBKEBFHVWBFLWEBWEBWBWJBWJBWBW to go to IIT... JAMMU,, ''',\"AGRA touseef\" ]\n",
    "def REVPARA(lines):\n",
    "    l1=[]\n",
    "    for i in range(len(lines)-1,-1,-1):\n",
    "        st=''\n",
    "        st=(lines[i])[len(lines[i])-1::-1]\n",
    "        l1.append(st)\n",
    "    lines=l1.copy()\n",
    "    for i in lines:\n",
    "        print(i)"
   ]
  },
  {
   "attachments": {},
   "cell_type": "markdown",
   "metadata": {},
   "source": [
    "# 25 To convert whole document in uppercase"
   ]
  },
  {
   "cell_type": "code",
   "execution_count": null,
   "metadata": {},
   "outputs": [],
   "source": [
    "lines = ['my name is touseef','I live in agra','''I'm eighteen years old''','''I want to go,? to ?IIT JAMMU ''' ]\n",
    "def UPPER(lines):\n",
    "    for j in range(len(lines)):\n",
    "        st=''\n",
    "        for i in lines[j]:\n",
    "            if ord(i)>=97 and ord(i)<=122:\n",
    "                st=st+chr(ord(i)-32)\n",
    "            else:\n",
    "                st=st+i\n",
    "        lines[j]=st\n",
    "    for k in lines:\n",
    "        print(k)\n",
    "UPPER(lines)            "
   ]
  },
  {
   "attachments": {},
   "cell_type": "markdown",
   "metadata": {},
   "source": [
    "# 26 To convert in lower"
   ]
  },
  {
   "cell_type": "code",
   "execution_count": null,
   "metadata": {},
   "outputs": [],
   "source": [
    "lines = ['my name is touseef','I live NSHLNBKRB in agra','''I'm eighteen  years old''','''I want to go,? to ?IIT JAMMU ''' ]\n",
    "def LOWER(lines):\n",
    "    for j in range(len(lines)):\n",
    "        st=''\n",
    "        for i in lines[j]:\n",
    "            if ord(i)>=65 and ord(i)<=90:\n",
    "                st=st+chr(ord(i)+32)\n",
    "            else:\n",
    "                st=st+i\n",
    "        lines[j]=st\n",
    "    for k in lines:\n",
    "        print(k)\n",
    "LOWER(lines)            "
   ]
  }
 ],
 "metadata": {
  "kernelspec": {
   "display_name": "Python 3",
   "language": "python",
   "name": "python3"
  },
  "language_info": {
   "codemirror_mode": {
    "name": "ipython",
    "version": 3
   },
   "file_extension": ".py",
   "mimetype": "text/x-python",
   "name": "python",
   "nbconvert_exporter": "python",
   "pygments_lexer": "ipython3",
   "version": "3.11.2"
  }
 },
 "nbformat": 4,
 "nbformat_minor": 4
}
